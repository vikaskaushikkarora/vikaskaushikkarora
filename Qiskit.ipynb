{
  "nbformat": 4,
  "nbformat_minor": 0,
  "metadata": {
    "colab": {
      "name": "Qiskit.ipynb",
      "provenance": [],
      "collapsed_sections": [],
      "authorship_tag": "ABX9TyPj+CQVI+UmsGOBVw9n6Xqt",
      "include_colab_link": true
    },
    "kernelspec": {
      "name": "python3",
      "display_name": "Python 3"
    },
    "language_info": {
      "name": "python"
    }
  },
  "cells": [
    {
      "cell_type": "markdown",
      "metadata": {
        "id": "view-in-github",
        "colab_type": "text"
      },
      "source": [
        "<a href=\"https://colab.research.google.com/github/vikaskaushikkarora/vikaskaushikkarora/blob/main/Qiskit.ipynb\" target=\"_parent\"><img src=\"https://colab.research.google.com/assets/colab-badge.svg\" alt=\"Open In Colab\"/></a>"
      ]
    },
    {
      "cell_type": "markdown",
      "source": [
        "**Drawing a Basic Quantum Circuit**"
      ],
      "metadata": {
        "id": "tyiz9C5Hl1SL"
      }
    },
    {
      "cell_type": "code",
      "source": [
        "# Click 'try', then 'run' to see the output,\n",
        "# you can change the code and run it again.\n",
        "print(\"This code works!\")\n",
        "from qiskit import QuantumCircuit\n",
        "qc = QuantumCircuit(2) # Create circuit with 2 qubits\n",
        "qc.h(1)    # Do H-gate on q0\n",
        "qc.cx(0,1) # Do CNOT on q1 controlled by q0\n",
        "qc.measure_all()\n",
        "qc.draw()"
      ],
      "metadata": {
        "id": "5JSqZhR_Wm7p"
      },
      "execution_count": null,
      "outputs": []
    },
    {
      "cell_type": "markdown",
      "source": [
        "**Simulating a Basic Quantum Circuit**"
      ],
      "metadata": {
        "id": "SDKXaO2SmkS1"
      }
    },
    {
      "cell_type": "code",
      "source": [
        "from qiskit import QuantumCircuit , assemble , Aer\n",
        "from qiskit.visualization import plot_histogram\n",
        "\n",
        "qc_encode=QuantumCircuit(8)\n",
        "qc_encode.x(1)\n",
        "qc_encode.x(5)\n",
        "qc_encode.measure_all()\n",
        "qc_encode.draw()\n",
        "\n",
        "sim=Aer.get_backend('aer_simulator')\n",
        "result=sim.run(qc_encode).result()\n",
        "counts=result.get_counts()\n",
        "plot_histogram(counts)"
      ],
      "metadata": {
        "id": "5Vj26DA5Slnd"
      },
      "execution_count": null,
      "outputs": []
    },
    {
      "cell_type": "code",
      "source": [
        "import os\n",
        "os.system('apt upgrade python')"
      ],
      "metadata": {
        "colab": {
          "base_uri": "https://localhost:8080/"
        },
        "id": "Xp1RpYXguVA_",
        "outputId": "e94fc4e5-13ce-4d3b-eddd-2d770b987ac8"
      },
      "execution_count": 69,
      "outputs": [
        {
          "output_type": "execute_result",
          "data": {
            "text/plain": [
              "25600"
            ]
          },
          "metadata": {},
          "execution_count": 69
        }
      ]
    },
    {
      "cell_type": "markdown",
      "source": [
        "# Letures from QISKIT Channel on Youtube"
      ],
      "metadata": {
        "id": "52UlKDObm6mV"
      }
    },
    {
      "cell_type": "markdown",
      "source": [
        "**Hello World of QISKIT**"
      ],
      "metadata": {
        "id": "KxNMnXgSgaqK"
      }
    },
    {
      "cell_type": "code",
      "source": [
        "from qiskit import *\n",
        "from qiskit.tools.visualization import plot_histogram\n",
        "qr=QuantumRegister(2)\n",
        "cr=ClassicalRegister(2)\n",
        "circuit=QuantumCircuit(qr,cr)\n",
        "circuit.h(qr[0])\n",
        "circuit.cx(qr[0],qr[1])\n",
        "circuit.measure(qr,cr)\n",
        "#circuit.draw()\n",
        "simulator = Aer.get_backend('qasm_simulator')\n",
        "result=execute(circuit,simulator).result()\n",
        "plot_histogram(result.get_counts(circuit))"
      ],
      "metadata": {
        "id": "eEbuUeH0gdwk"
      },
      "execution_count": null,
      "outputs": []
    },
    {
      "cell_type": "markdown",
      "source": [
        "**Quantum Gates**"
      ],
      "metadata": {
        "id": "8wQvn0KBq9X8"
      }
    },
    {
      "cell_type": "code",
      "source": [
        "from qiskit import *\n",
        "from matplotlib import *\n",
        "from qiskit.tools.visualization import plot_bloch_multivector\n",
        "circuit=QuantumCircuit(1,1)\n",
        "circuit.x(0)\n",
        "\n",
        "simulator=Aer.get_backend('statevector_simulator')\n",
        "result=execute(circuit,simulator).result()\n",
        "statevector=result.get_statevector()\n",
        "print(statevector)\n",
        "plot_bloch_multivector(statevector)"
      ],
      "metadata": {
        "id": "i3PklV41rM7k"
      },
      "execution_count": null,
      "outputs": []
    }
  ]
}