{
  "nbformat": 4,
  "nbformat_minor": 0,
  "metadata": {
    "colab": {
      "name": "Qiskit.ipynb",
      "provenance": [],
      "collapsed_sections": [],
      "authorship_tag": "ABX9TyOAuPaQSZ6WB+St7kkwgYWO",
      "include_colab_link": true
    },
    "kernelspec": {
      "name": "python3",
      "display_name": "Python 3"
    },
    "language_info": {
      "name": "python"
    }
  },
  "cells": [
    {
      "cell_type": "markdown",
      "metadata": {
        "id": "view-in-github",
        "colab_type": "text"
      },
      "source": [
        "<a href=\"https://colab.research.google.com/github/vikaskaushikkarora/vikaskaushikkarora/blob/main/Qiskit.ipynb\" target=\"_parent\"><img src=\"https://colab.research.google.com/assets/colab-badge.svg\" alt=\"Open In Colab\"/></a>"
      ]
    },
    {
      "cell_type": "code",
      "execution_count": 15,
      "metadata": {
        "colab": {
          "base_uri": "https://localhost:8080/",
          "height": 380
        },
        "id": "4qgBrAF_Onj5",
        "outputId": "c7d795d1-74f2-4941-8247-198035563ef8"
      },
      "outputs": [
        {
          "output_type": "execute_result",
          "data": {
            "image/png": "[encoded data removed]",
            "text/plain": [
              "<Figure size 504x360 with 1 Axes>"
            ]
          },
          "metadata": {},
          "execution_count": 15
        }
      ],
      "source": [
        "from qiskit import QuantumCircuit , assemble , Aer\n",
        "from qiskit.visualization import plot_histogram\n",
        "qc_output=QuantumCircuit(8)\n",
        "qc_output.measure_all()\n",
        "#qc_output.draw(initial_state=True)\n",
        "\n",
        "sim=Aer.get_backend('aer_simulator')\n",
        "result=sim.run(qc_output).result()\n",
        "counts=result.get_counts()\n",
        "plot_histogram(counts)"
      ]
    },
    {
      "cell_type": "code",
      "source": [
        "from qiskit import QuantumCircuit , assemble , Aer\n",
        "from qiskit.visualization import plot_histogram\n",
        "\n",
        "qc_encode=QuantumCircuit(8)\n",
        "qc_encode.x(1)\n",
        "qc_encode.x(5)\n",
        "qc_encode.draw()\n",
        "\n",
        "qc_encode.measure_all()\n",
        "qc_encode.draw()\n",
        "\n",
        "#sim=Aer.get_backend('aer_simulator')\n",
        "#result=sim.run(qc_encode).result()\n",
        "#counts=result.get_counts()\n",
        "#plot_histogram(counts)"
      ],
      "metadata": {
        "colab": {
          "base_uri": "https://localhost:8080/",
          "height": 309
        },
        "id": "5Vj26DA5Slnd",
        "outputId": "dc01ee5d-2ca8-4114-9cce-d7503af5e882"
      },
      "execution_count": 22,
      "outputs": [
        {
          "output_type": "execute_result",
          "data": {
            "text/html": [
              "<pre style=\"word-wrap: normal;white-space: pre;background: #fff0;line-height: 1.1;font-family: &quot;Courier New&quot;,Courier,monospace\">              ░ ┌─┐                     \n",
              "   q_0: ──────░─┤M├─────────────────────\n",
              "        ┌───┐ ░ └╥┘┌─┐                  \n",
              "   q_1: ┤ X ├─░──╫─┤M├──────────────────\n",
              "        └───┘ ░  ║ └╥┘┌─┐               \n",
              "   q_2: ──────░──╫──╫─┤M├───────────────\n",
              "              ░  ║  ║ └╥┘┌─┐            \n",
              "   q_3: ──────░──╫──╫──╫─┤M├────────────\n",
              "              ░  ║  ║  ║ └╥┘┌─┐         \n",
              "   q_4: ──────░──╫──╫──╫──╫─┤M├─────────\n",
              "        ┌───┐ ░  ║  ║  ║  ║ └╥┘┌─┐      \n",
              "   q_5: ┤ X ├─░──╫──╫──╫──╫──╫─┤M├──────\n",
              "        └───┘ ░  ║  ║  ║  ║  ║ └╥┘┌─┐   \n",
              "   q_6: ──────░──╫──╫──╫──╫──╫──╫─┤M├───\n",
              "              ░  ║  ║  ║  ║  ║  ║ └╥┘┌─┐\n",
              "   q_7: ──────░──╫──╫──╫──╫──╫──╫──╫─┤M├\n",
              "              ░  ║  ║  ║  ║  ║  ║  ║ └╥┘\n",
              "meas: 8/═════════╩══╩══╩══╩══╩══╩══╩══╩═\n",
              "                 0  1  2  3  4  5  6  7 </pre>"
            ],
            "text/plain": [
              "              ░ ┌─┐                     \n",
              "   q_0: ──────░─┤M├─────────────────────\n",
              "        ┌───┐ ░ └╥┘┌─┐                  \n",
              "   q_1: ┤ X ├─░──╫─┤M├──────────────────\n",
              "        └───┘ ░  ║ └╥┘┌─┐               \n",
              "   q_2: ──────░──╫──╫─┤M├───────────────\n",
              "              ░  ║  ║ └╥┘┌─┐            \n",
              "   q_3: ──────░──╫──╫──╫─┤M├────────────\n",
              "              ░  ║  ║  ║ └╥┘┌─┐         \n",
              "   q_4: ──────░──╫──╫──╫──╫─┤M├─────────\n",
              "        ┌───┐ ░  ║  ║  ║  ║ └╥┘┌─┐      \n",
              "   q_5: ┤ X ├─░──╫──╫──╫──╫──╫─┤M├──────\n",
              "        └───┘ ░  ║  ║  ║  ║  ║ └╥┘┌─┐   \n",
              "   q_6: ──────░──╫──╫──╫──╫──╫──╫─┤M├───\n",
              "              ░  ║  ║  ║  ║  ║  ║ └╥┘┌─┐\n",
              "   q_7: ──────░──╫──╫──╫──╫──╫──╫──╫─┤M├\n",
              "              ░  ║  ║  ║  ║  ║  ║  ║ └╥┘\n",
              "meas: 8/═════════╩══╩══╩══╩══╩══╩══╩══╩═\n",
              "                 0  1  2  3  4  5  6  7 "
            ]
          },
          "metadata": {},
          "execution_count": 22
        }
      ]
    },
    {
      "cell_type": "code",
      "source": [
        "from qiskit import QuantumCircuit , assemble , Aer\n",
        "from qiskit.visualization import plot_histogram\n",
        "\n",
        "qc_cnot=QuantumCircuit(2)\n",
        "qc_cnot.cx(0,1)\n",
        "qc_cnot.draw()"
      ],
      "metadata": {
        "colab": {
          "base_uri": "https://localhost:8080/",
          "height": 94
        },
        "id": "4hBUJLG8UDZZ",
        "outputId": "7f48dc45-f817-4900-c0f5-70f6e1cbc427"
      },
      "execution_count": 24,
      "outputs": [
        {
          "output_type": "execute_result",
          "data": {
            "text/html": [
              "<pre style=\"word-wrap: normal;white-space: pre;background: #fff0;line-height: 1.1;font-family: &quot;Courier New&quot;,Courier,monospace\">          \n",
              "q_0: ──■──\n",
              "     ┌─┴─┐\n",
              "q_1: ┤ X ├\n",
              "     └───┘</pre>"
            ],
            "text/plain": [
              "          \n",
              "q_0: ──■──\n",
              "     ┌─┴─┐\n",
              "q_1: ┤ X ├\n",
              "     └───┘"
            ]
          },
          "metadata": {},
          "execution_count": 24
        }
      ]
    },
    {
      "cell_type": "code",
      "source": [
        "from qiskit import QuantumCircuit , assemble , Aer\n",
        "from qiskit.visualization import plot_histogram\n",
        "\n",
        "qc=QuantumCircuit(2,2)\n",
        "qc.x(0)\n",
        "qc.cx(0,1)\n",
        "qc.measure(0,0)\n",
        "qc.measure(1,1)\n",
        "qc.draw()"
      ],
      "metadata": {
        "colab": {
          "base_uri": "https://localhost:8080/",
          "height": 125
        },
        "id": "ytnNYs8wUTU_",
        "outputId": "d597ff46-49db-4c0a-afdf-860216f97343"
      },
      "execution_count": 25,
      "outputs": [
        {
          "output_type": "execute_result",
          "data": {
            "text/html": [
              "<pre style=\"word-wrap: normal;white-space: pre;background: #fff0;line-height: 1.1;font-family: &quot;Courier New&quot;,Courier,monospace\">     ┌───┐     ┌─┐   \n",
              "q_0: ┤ X ├──■──┤M├───\n",
              "     └───┘┌─┴─┐└╥┘┌─┐\n",
              "q_1: ─────┤ X ├─╫─┤M├\n",
              "          └───┘ ║ └╥┘\n",
              "c: 2/═══════════╩══╩═\n",
              "                0  1 </pre>"
            ],
            "text/plain": [
              "     ┌───┐     ┌─┐   \n",
              "q_0: ┤ X ├──■──┤M├───\n",
              "     └───┘┌─┴─┐└╥┘┌─┐\n",
              "q_1: ─────┤ X ├─╫─┤M├\n",
              "          └───┘ ║ └╥┘\n",
              "c: 2/═══════════╩══╩═\n",
              "                0  1 "
            ]
          },
          "metadata": {},
          "execution_count": 25
        }
      ]
    }
  ]
}