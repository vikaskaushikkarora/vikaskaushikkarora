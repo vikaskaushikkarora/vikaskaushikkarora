{
  "nbformat": 4,
  "nbformat_minor": 0,
  "metadata": {
    "colab": {
      "name": "Untitled0.ipynb",
      "provenance": [],
      "collapsed_sections": [],
      "authorship_tag": "ABX9TyOIkA2kht0vZBZQa0BB4maY",
      "include_colab_link": true
    },
    "kernelspec": {
      "name": "python3",
      "display_name": "Python 3"
    },
    "language_info": {
      "name": "python"
    }
  },
  "cells": [
    {
      "cell_type": "markdown",
      "metadata": {
        "id": "view-in-github",
        "colab_type": "text"
      },
      "source": [
        "<a href=\"https://colab.research.google.com/github/vikaskaushikkarora/vikaskaushikkarora/blob/main/Keras.ipynb\" target=\"_parent\"><img src=\"https://colab.research.google.com/assets/colab-badge.svg\" alt=\"Open In Colab\"/></a>"
      ]
    },
    {
      "cell_type": "markdown",
      "source": [
        "##A Simple Keras Machine Learning Programme##"
      ],
      "metadata": {
        "id": "6CU-vii5CcWj"
      }
    },
    {
      "cell_type": "code",
      "source": [
        "import numpy as np\n",
        "from keras.models import Sequential\n",
        "from keras.layers import Dense"
      ],
      "metadata": {
        "id": "RlTBjv58CkPW"
      },
      "execution_count": 12,
      "outputs": []
    },
    {
      "cell_type": "code",
      "source": [
        "#Import training data\n",
        "A=np.loadtxt(\"https://raw.githubusercontent.com/jbrownlee/Datasets/master/pima-indians-diabetes.data.csv\",delimiter=',')\n",
        "X=A[:,0:8]\n",
        "y=A[:,8]\n",
        "#print(X)\n",
        "#print(y)"
      ],
      "metadata": {
        "id": "vX2dCxvpDF1a"
      },
      "execution_count": 13,
      "outputs": []
    },
    {
      "cell_type": "code",
      "source": [
        "#define keras model\n",
        "model=Sequential()\n",
        "model.add(Dense(12,input_dim=8,activation='relu'))\n",
        "model.add(Dense(8,activation='relu'))\n",
        "model.add(Dense(1,activation='sigmoid'))"
      ],
      "metadata": {
        "id": "skFUkwdbESWf"
      },
      "execution_count": 15,
      "outputs": []
    },
    {
      "cell_type": "code",
      "source": [
        "#compile keras model\n",
        "model.compile(loss='binary_crossentropy',optimizer='adam',metrics=['accuracy'])"
      ],
      "metadata": {
        "id": "UScbOaF9FP1C"
      },
      "execution_count": 16,
      "outputs": []
    },
    {
      "cell_type": "code",
      "source": [
        "#fit the keras model on the dataset\n",
        "model.fit(X,y,epochs=150,batch_size=10)"
      ],
      "metadata": {
        "id": "qvG4DhGmFyyB"
      },
      "execution_count": null,
      "outputs": []
    },
    {
      "cell_type": "code",
      "source": [
        "#evaluate Keras Model\n",
        "_, accuracy=model.evaluate(X,y)\n",
        "print('Accuracy : %.2f' %(accuracy*100))"
      ],
      "metadata": {
        "colab": {
          "base_uri": "https://localhost:8080/"
        },
        "id": "fdWJYO3tHH31",
        "outputId": "ff7c1a1b-a6b8-474a-fc7c-c9b5ba07a312"
      },
      "execution_count": 18,
      "outputs": [
        {
          "output_type": "stream",
          "name": "stdout",
          "text": [
            "24/24 [==============================] - 0s 1ms/step - loss: 0.4774 - accuracy: 0.7643\n",
            "Accuracy : 76.43\n"
          ]
        }
      ]
    }
  ]
}